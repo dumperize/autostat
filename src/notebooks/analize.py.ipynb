{
 "cells": [
  {
   "cell_type": "code",
   "execution_count": 13,
   "id": "400548b9",
   "metadata": {},
   "outputs": [],
   "source": [
    "import pandas as pd"
   ]
  },
  {
   "cell_type": "code",
   "execution_count": 17,
   "id": "02026925",
   "metadata": {},
   "outputs": [],
   "source": [
    "df = pd.read_excel('../../data/interim/pledges_ner.xls')"
   ]
  },
  {
   "cell_type": "code",
   "execution_count": 24,
   "id": "0b16c3c5",
   "metadata": {},
   "outputs": [],
   "source": [
    "df['firts_year'] = df['years'].apply(lambda x: str(x).split(',')[0])"
   ]
  },
  {
   "cell_type": "code",
   "execution_count": 28,
   "id": "cb335fa1",
   "metadata": {},
   "outputs": [
    {
     "data": {
      "text/html": [
       "<div>\n",
       "<style scoped>\n",
       "    .dataframe tbody tr th:only-of-type {\n",
       "        vertical-align: middle;\n",
       "    }\n",
       "\n",
       "    .dataframe tbody tr th {\n",
       "        vertical-align: top;\n",
       "    }\n",
       "\n",
       "    .dataframe thead th {\n",
       "        text-align: right;\n",
       "    }\n",
       "</style>\n",
       "<table border=\"1\" class=\"dataframe\">\n",
       "  <thead>\n",
       "    <tr style=\"text-align: right;\">\n",
       "      <th></th>\n",
       "      <th>vehicleproperty_description_short</th>\n",
       "      <th>years</th>\n",
       "      <th>firts_year</th>\n",
       "    </tr>\n",
       "  </thead>\n",
       "  <tbody>\n",
       "    <tr>\n",
       "      <th>5</th>\n",
       "      <td>автомашина  OPEL   Meriva  2012 года выпуска</td>\n",
       "      <td>2012</td>\n",
       "      <td>2012</td>\n",
       "    </tr>\n",
       "    <tr>\n",
       "      <th>7</th>\n",
       "      <td>ВАЗ -11193  LADA   KALINA  2007 г.в.цвет - се...</td>\n",
       "      <td>2007</td>\n",
       "      <td>2007</td>\n",
       "    </tr>\n",
       "    <tr>\n",
       "      <th>10</th>\n",
       "      <td>автомобиль  Honda   CR-V 2003 года выпуска№ дв...</td>\n",
       "      <td>2003</td>\n",
       "      <td>2003</td>\n",
       "    </tr>\n",
       "    <tr>\n",
       "      <th>12</th>\n",
       "      <td>CHEVROLET   KL1J  2012 года выпуска</td>\n",
       "      <td>2012</td>\n",
       "      <td>2012</td>\n",
       "    </tr>\n",
       "    <tr>\n",
       "      <th>13</th>\n",
       "      <td>ДЖИП ГРАНД ЧИРОКИ 2000 года выпуска.</td>\n",
       "      <td>2000</td>\n",
       "      <td>2000</td>\n",
       "    </tr>\n",
       "    <tr>\n",
       "      <th>...</th>\n",
       "      <td>...</td>\n",
       "      <td>...</td>\n",
       "      <td>...</td>\n",
       "    </tr>\n",
       "    <tr>\n",
       "      <th>9995</th>\n",
       "      <td>Модель автомобиля:  DODGE   CARAVAN год выпуск...</td>\n",
       "      <td>2002</td>\n",
       "      <td>2002</td>\n",
       "    </tr>\n",
       "    <tr>\n",
       "      <th>9996</th>\n",
       "      <td>Модель автомобиля:  MITSUBISHI   L200  DI-D го...</td>\n",
       "      <td>2008</td>\n",
       "      <td>2008</td>\n",
       "    </tr>\n",
       "    <tr>\n",
       "      <th>9997</th>\n",
       "      <td>Модель автомобиля:  BMW   520I год выпуска:1998</td>\n",
       "      <td>1998</td>\n",
       "      <td>1998</td>\n",
       "    </tr>\n",
       "    <tr>\n",
       "      <th>9998</th>\n",
       "      <td>Модель автомобиля:  TOYOTA   HILUX год выпуска...</td>\n",
       "      <td>2008</td>\n",
       "      <td>2008</td>\n",
       "    </tr>\n",
       "    <tr>\n",
       "      <th>9999</th>\n",
       "      <td>Модель автомобиля:  LADA 217030  LADA   PRIORA...</td>\n",
       "      <td>2010</td>\n",
       "      <td>2010</td>\n",
       "    </tr>\n",
       "  </tbody>\n",
       "</table>\n",
       "<p>5064 rows × 3 columns</p>\n",
       "</div>"
      ],
      "text/plain": [
       "                      vehicleproperty_description_short years firts_year\n",
       "5          автомашина  OPEL   Meriva  2012 года выпуска  2012       2012\n",
       "7      ВАЗ -11193  LADA   KALINA  2007 г.в.цвет - се...  2007       2007\n",
       "10    автомобиль  Honda   CR-V 2003 года выпуска№ дв...  2003       2003\n",
       "12                  CHEVROLET   KL1J  2012 года выпуска  2012       2012\n",
       "13                 ДЖИП ГРАНД ЧИРОКИ 2000 года выпуска.  2000       2000\n",
       "...                                                 ...   ...        ...\n",
       "9995  Модель автомобиля:  DODGE   CARAVAN год выпуск...  2002       2002\n",
       "9996  Модель автомобиля:  MITSUBISHI   L200  DI-D го...  2008       2008\n",
       "9997    Модель автомобиля:  BMW   520I год выпуска:1998  1998       1998\n",
       "9998  Модель автомобиля:  TOYOTA   HILUX год выпуска...  2008       2008\n",
       "9999  Модель автомобиля:  LADA 217030  LADA   PRIORA...  2010       2010\n",
       "\n",
       "[5064 rows x 3 columns]"
      ]
     },
     "execution_count": 28,
     "metadata": {},
     "output_type": "execute_result"
    }
   ],
   "source": [
    "df[df['years'].notna()][['vehicleproperty_description_short', 'years', 'firts_year']]"
   ]
  },
  {
   "cell_type": "code",
   "execution_count": null,
   "id": "243a1ec4",
   "metadata": {},
   "outputs": [],
   "source": []
  },
  {
   "cell_type": "code",
   "execution_count": 31,
   "id": "609aaaf1",
   "metadata": {},
   "outputs": [
    {
     "ename": "NameError",
     "evalue": "name 'rules' is not defined",
     "output_type": "error",
     "traceback": [
      "\u001b[0;31m---------------------------------------------------------------------------\u001b[0m",
      "\u001b[0;31mNameError\u001b[0m                                 Traceback (most recent call last)",
      "\u001b[0;32m/tmp/ipykernel_370688/3428805932.py\u001b[0m in \u001b[0;36m<module>\u001b[0;34m\u001b[0m\n\u001b[1;32m      5\u001b[0m \u001b[0mconfig\u001b[0m \u001b[0;34m=\u001b[0m \u001b[0;34m{\u001b[0m \u001b[0;34m\"overwrite_ents\"\u001b[0m\u001b[0;34m:\u001b[0m \u001b[0;32mTrue\u001b[0m \u001b[0;34m}\u001b[0m\u001b[0;34m\u001b[0m\u001b[0;34m\u001b[0m\u001b[0m\n\u001b[1;32m      6\u001b[0m \u001b[0mruler\u001b[0m \u001b[0;34m=\u001b[0m \u001b[0mnlp\u001b[0m\u001b[0;34m.\u001b[0m\u001b[0madd_pipe\u001b[0m\u001b[0;34m(\u001b[0m\u001b[0;34m\"entity_ruler\"\u001b[0m\u001b[0;34m,\u001b[0m \u001b[0mbefore\u001b[0m\u001b[0;34m=\u001b[0m\u001b[0;34m\"ner\"\u001b[0m\u001b[0;34m,\u001b[0m \u001b[0mconfig\u001b[0m\u001b[0;34m=\u001b[0m\u001b[0mconfig\u001b[0m\u001b[0;34m)\u001b[0m \u001b[0;31m#.from_disk(RULES_PATH +\"all_rules.jsonl\", )\u001b[0m\u001b[0;34m\u001b[0m\u001b[0;34m\u001b[0m\u001b[0m\n\u001b[0;32m----> 7\u001b[0;31m \u001b[0mrules\u001b[0m\u001b[0;34m.\u001b[0m\u001b[0mappend\u001b[0m\u001b[0;34m(\u001b[0m\u001b[0;34m{\u001b[0m\u001b[0;34m\"label\"\u001b[0m\u001b[0;34m:\u001b[0m \u001b[0;34m\"YEAR\"\u001b[0m\u001b[0;34m,\u001b[0m \u001b[0;34m\"pattern\"\u001b[0m\u001b[0;34m:\u001b[0m \u001b[0;34m[\u001b[0m\u001b[0;34m{\u001b[0m\u001b[0;34m\"LOWER\"\u001b[0m\u001b[0;34m:\u001b[0m \u001b[0;34m{\u001b[0m\u001b[0;34m\"REGEX\"\u001b[0m\u001b[0;34m:\u001b[0m \u001b[0;34m\"(19|20)\\d{2}\"\u001b[0m\u001b[0;34m}\u001b[0m\u001b[0;34m}\u001b[0m\u001b[0;34m]\u001b[0m\u001b[0;34m,\u001b[0m \u001b[0;34m\"id\"\u001b[0m\u001b[0;34m:\u001b[0m \u001b[0;34m\"4-digits\"\u001b[0m\u001b[0;34m}\u001b[0m\u001b[0;34m)\u001b[0m\u001b[0;34m\u001b[0m\u001b[0;34m\u001b[0m\u001b[0m\n\u001b[0m\u001b[1;32m      8\u001b[0m \u001b[0mrules\u001b[0m\u001b[0;34m.\u001b[0m\u001b[0mappend\u001b[0m\u001b[0;34m(\u001b[0m\u001b[0;34m{\u001b[0m\u001b[0;34m\"label\"\u001b[0m\u001b[0;34m:\u001b[0m \u001b[0;34m\"YEAR\"\u001b[0m\u001b[0;34m,\u001b[0m \u001b[0;34m\"pattern\"\u001b[0m\u001b[0;34m:\u001b[0m \u001b[0;34m[\u001b[0m\u001b[0;34m{\u001b[0m\u001b[0;34m\"LOWER\"\u001b[0m\u001b[0;34m:\u001b[0m \u001b[0;34m{\u001b[0m\u001b[0;34m\"REGEX\"\u001b[0m\u001b[0;34m:\u001b[0m \u001b[0;34m\"\\D(\\d{2})\\D\"\u001b[0m\u001b[0;34m}\u001b[0m\u001b[0;34m}\u001b[0m\u001b[0;34m]\u001b[0m\u001b[0;34m,\u001b[0m \u001b[0;34m\"id\"\u001b[0m\u001b[0;34m:\u001b[0m \u001b[0;34m\"2-digits\"\u001b[0m\u001b[0;34m}\u001b[0m\u001b[0;34m)\u001b[0m\u001b[0;34m\u001b[0m\u001b[0;34m\u001b[0m\u001b[0m\n\u001b[1;32m      9\u001b[0m \u001b[0mruler\u001b[0m\u001b[0;34m.\u001b[0m\u001b[0madd_patterns\u001b[0m\u001b[0;34m(\u001b[0m\u001b[0mrules\u001b[0m\u001b[0;34m)\u001b[0m\u001b[0;34m\u001b[0m\u001b[0;34m\u001b[0m\u001b[0m\n",
      "\u001b[0;31mNameError\u001b[0m: name 'rules' is not defined"
     ]
    }
   ],
   "source": [
    "\n",
    "import ru_core_news_sm\n",
    "\n",
    "nlp = ru_core_news_sm.load(exclude=['tok2vec', 'morphologizer', 'parser', 'senter', 'attribute_ruler', 'lemmatizer'])\n",
    "\n",
    "config = { \"overwrite_ents\": True }\n",
    "ruler = nlp.add_pipe(\"entity_ruler\", before=\"ner\", config=config) #.from_disk(RULES_PATH +\"all_rules.jsonl\", )\n",
    "rules.append({\"label\": \"YEAR\", \"pattern\": [{\"LOWER\": {\"REGEX\": \"(19|20)\\d{2}\"}}], \"id\": \"4-digits\"})\n",
    "rules.append({\"label\": \"YEAR\", \"pattern\": [{\"LOWER\": {\"REGEX\": \"\\D(\\d{2})\\D\"}}], \"id\": \"2-digits\"})\n",
    "ruler.add_patterns(rules)\n",
    "\n",
    "nlp.add_pipe(\"expand_model\", after=\"ner\")\n",
    "\n",
    "article = 'Автогрейдер ДЗ-122Б-7ПСМ ВЕ 251068дата выдачи 04.02.2008г.гос. номер код 74 серия ХА №3762свидетельство №ВК 921523Заводской номер16008802008 г.в.'\n",
    "\n",
    "colors = {\"BRAND\": \"#aa9cfc\", \"MODEL\": \"#fc9ce7\", \"YEAR\": \"#9cfcb1\"}\n",
    "\n",
    "doc = nlp(article)\n",
    "print([x.label_ for x in doc.ents])\n",
    "print(doc.user_data)\n",
    "displacy.render(doc, style=\"ent\",  options=options)"
   ]
  },
  {
   "cell_type": "code",
   "execution_count": null,
   "id": "bcbf5e77",
   "metadata": {},
   "outputs": [],
   "source": []
  }
 ],
 "metadata": {
  "kernelspec": {
   "display_name": "Python 3 (ipykernel)",
   "language": "python",
   "name": "python3"
  },
  "language_info": {
   "codemirror_mode": {
    "name": "ipython",
    "version": 3
   },
   "file_extension": ".py",
   "mimetype": "text/x-python",
   "name": "python",
   "nbconvert_exporter": "python",
   "pygments_lexer": "ipython3",
   "version": "3.10.4"
  }
 },
 "nbformat": 4,
 "nbformat_minor": 5
}
